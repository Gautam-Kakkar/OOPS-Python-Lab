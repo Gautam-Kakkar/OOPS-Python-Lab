{
 "cells": [
  {
   "cell_type": "markdown",
   "metadata": {},
   "source": [
    "WAP to use various inbuilt fn of list"
   ]
  },
  {
   "cell_type": "code",
   "execution_count": 8,
   "metadata": {},
   "outputs": [
    {
     "name": "stdout",
     "output_type": "stream",
     "text": [
      "Original List: [5, 2, 9, 1, 5, 6]\n",
      "After Append (7): [5, 2, 9, 1, 5, 6, 7]\n",
      "After Extend ([8, 10]): [5, 2, 9, 1, 5, 6, 7, 8, 10]\n",
      "After Insert (4 at index 2): [5, 2, 4, 9, 1, 5, 6, 7, 8, 10]\n",
      "After Remove (first occurrence of 5): [2, 4, 9, 1, 5, 6, 7, 8, 10]\n",
      "After Pop (removed item): [2, 4, 9, 1, 5, 6, 7, 8]\n",
      "Popped Item: 10\n",
      "Count of 5 in the list: 1\n",
      "After Sort: [1, 2, 4, 5, 6, 7, 8, 9]\n",
      "After Reverse: [9, 8, 7, 6, 5, 4, 2, 1]\n",
      "Index of 1 in the list: 7\n",
      "Slice of List (index 1 to 4): [8, 7, 6]\n",
      "Length of the List: 8\n"
     ]
    }
   ],
   "source": [
    "def list_inbuilt_functions_demo():\n",
    "    # Creating a list\n",
    "    my_list = [5, 2, 9, 1, 5, 6]\n",
    "    print(\"Original List:\", my_list)\n",
    "\n",
    "    # Append\n",
    "    my_list.append(7)\n",
    "    print(\"After Append (7):\", my_list)\n",
    "\n",
    "    # Extend\n",
    "    my_list.extend([8, 10])\n",
    "    print(\"After Extend ([8, 10]):\", my_list)\n",
    "\n",
    "    # Insert\n",
    "    my_list.insert(2, 4)\n",
    "    print(\"After Insert (4 at index 2):\", my_list)\n",
    "\n",
    "    # Remove\n",
    "    my_list.remove(5)\n",
    "    print(\"After Remove (first occurrence of 5):\", my_list)\n",
    "\n",
    "    # Pop\n",
    "    popped_item = my_list.pop()\n",
    "    print(\"After Pop (removed item):\", my_list)\n",
    "    print(\"Popped Item:\", popped_item)\n",
    "\n",
    "    # Count\n",
    "    count_of_five = my_list.count(5)\n",
    "    print(\"Count of 5 in the list:\", count_of_five)\n",
    "\n",
    "    # Sort\n",
    "    my_list.sort()\n",
    "    print(\"After Sort:\", my_list)\n",
    "\n",
    "    # Reverse\n",
    "    my_list.reverse()\n",
    "    print(\"After Reverse:\", my_list)\n",
    "\n",
    "    # Index\n",
    "    index_of_one = my_list.index(1)\n",
    "    print(\"Index of 1 in the list:\", index_of_one)\n",
    "\n",
    "    # Slicing\n",
    "    slice_of_list = my_list[1:4]\n",
    "    print(\"Slice of List (index 1 to 4):\", slice_of_list)\n",
    "\n",
    "    # Length\n",
    "    length_of_list = len(my_list)\n",
    "    print(\"Length of the List:\", length_of_list)\n",
    "\n",
    "# Example usage\n",
    "list_inbuilt_functions_demo()"
   ]
  },
  {
   "cell_type": "markdown",
   "metadata": {},
   "source": [
    "WAP to pass the list as an argument in the function"
   ]
  },
  {
   "cell_type": "code",
   "execution_count": 9,
   "metadata": {},
   "outputs": [
    {
     "name": "stdout",
     "output_type": "stream",
     "text": [
      "[2, 4, 6, 8]\n"
     ]
    }
   ],
   "source": [
    "def process_list(input_list):\n",
    "    return [x * 2 for x in input_list]\n",
    "\n",
    "my_list = [1, 2, 3, 4]\n",
    "result = process_list(my_list)\n",
    "print(result)"
   ]
  },
  {
   "cell_type": "markdown",
   "metadata": {},
   "source": [
    "WAP to take variable length arguments in fn and perform cube of each elements "
   ]
  },
  {
   "cell_type": "code",
   "execution_count": 10,
   "metadata": {},
   "outputs": [
    {
     "name": "stdout",
     "output_type": "stream",
     "text": [
      "[1, 8, 27, 64]\n"
     ]
    }
   ],
   "source": [
    "def cube_elements(*args):\n",
    "    return [x ** 3 for x in args]\n",
    "\n",
    "result = cube_elements(1, 2, 3, 4)\n",
    "print(result)"
   ]
  },
  {
   "cell_type": "markdown",
   "metadata": {},
   "source": [
    "WAP for solving tower of Hanoi problem for n = 3 disk"
   ]
  },
  {
   "cell_type": "code",
   "execution_count": 11,
   "metadata": {},
   "outputs": [
    {
     "name": "stdout",
     "output_type": "stream",
     "text": [
      "Move disk 1 from A to C\n",
      "Move disk 2 from A to B\n",
      "Move disk 1 from C to B\n",
      "Move disk 3 from A to C\n",
      "Move disk 1 from B to A\n",
      "Move disk 2 from B to C\n",
      "Move disk 1 from A to C\n"
     ]
    }
   ],
   "source": [
    "def tower_of_hanoi(n, source, target, auxiliary):\n",
    "    if n == 1:\n",
    "        print(f\"Move disk 1 from {source} to {target}\")\n",
    "        return\n",
    "    tower_of_hanoi(n - 1, source, auxiliary, target)\n",
    "    print(f\"Move disk {n} from {source} to {target}\")\n",
    "    tower_of_hanoi(n - 1, auxiliary, target, source)\n",
    "\n",
    "tower_of_hanoi(3, 'A', 'C', 'B')"
   ]
  },
  {
   "cell_type": "markdown",
   "metadata": {},
   "source": [
    "WAP that accept string and calculate the number of uppercase and lowercase letters in the string"
   ]
  },
  {
   "cell_type": "code",
   "execution_count": 12,
   "metadata": {},
   "outputs": [
    {
     "name": "stdout",
     "output_type": "stream",
     "text": [
      "Uppercase : 2 , lowercase : 8\n",
      "(2, 8)\n"
     ]
    }
   ],
   "source": [
    "def count_case(string):\n",
    "    upper_count = sum(1 for c in string if c.isupper())\n",
    "    lower_count = sum(1 for c in string if c.islower())\n",
    "    print(f\"Uppercase : {upper_count} , lowercase : {lower_count}\")\n",
    "    return upper_count, lower_count\n",
    "    \n",
    "    \n",
    "\n",
    "result = count_case(\"Hello World!\")\n",
    "print(result)"
   ]
  },
  {
   "cell_type": "markdown",
   "metadata": {},
   "source": [
    "WAP to compute gcd of two numbers. Only use comments for showing output"
   ]
  },
  {
   "cell_type": "code",
   "execution_count": 13,
   "metadata": {},
   "outputs": [
    {
     "name": "stdout",
     "output_type": "stream",
     "text": [
      "12\n"
     ]
    }
   ],
   "source": [
    "import math\n",
    "\n",
    "def compute_gcd(a, b):\n",
    "    return math.gcd(a, b)\n",
    "\n",
    "gcd_result = compute_gcd(60, 48)\n",
    "print(gcd_result)"
   ]
  }
 ],
 "metadata": {
  "kernelspec": {
   "display_name": "Python 3",
   "language": "python",
   "name": "python3"
  },
  "language_info": {
   "codemirror_mode": {
    "name": "ipython",
    "version": 3
   },
   "file_extension": ".py",
   "mimetype": "text/x-python",
   "name": "python",
   "nbconvert_exporter": "python",
   "pygments_lexer": "ipython3",
   "version": "3.12.3"
  }
 },
 "nbformat": 4,
 "nbformat_minor": 2
}
