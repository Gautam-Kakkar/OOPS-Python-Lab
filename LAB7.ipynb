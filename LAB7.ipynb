{
 "cells": [
  {
   "cell_type": "markdown",
   "metadata": {},
   "source": [
    "Create a class ATM and implement functionalities"
   ]
  },
  {
   "cell_type": "code",
   "execution_count": 1,
   "metadata": {},
   "outputs": [
    {
     "name": "stdout",
     "output_type": "stream",
     "text": [
      "Your current balance is: ₹10000\n",
      "₹5000 deposited successfully. New balance: ₹15000\n",
      "₹2000 withdrawn successfully. Remaining balance: ₹13000\n",
      "PIN changed successfully.\n",
      "Your current balance is: ₹13000\n"
     ]
    }
   ],
   "source": [
    "class ATM:\n",
    "    def __init__(self, initial_balance=0, pin=\"1234\"):\n",
    "        self.balance = initial_balance\n",
    "        self.pin = pin\n",
    "\n",
    "    def check_pin(self, entered_pin):\n",
    "        return self.pin == entered_pin\n",
    "\n",
    "    def balance_inquiry(self, entered_pin):\n",
    "        if self.check_pin(entered_pin):\n",
    "            return f\"Your current balance is: ₹{self.balance}\"\n",
    "        else:\n",
    "            return \"Incorrect PIN.\"\n",
    "\n",
    "    def deposit(self, amount, entered_pin):\n",
    "        if self.check_pin(entered_pin):\n",
    "            if amount > 0:\n",
    "                self.balance += amount\n",
    "                return f\"₹{amount} deposited successfully. New balance: ₹{self.balance}\"\n",
    "            else:\n",
    "                return \"Invalid deposit amount.\"\n",
    "        else:\n",
    "            return \"Incorrect PIN.\"\n",
    "\n",
    "    def withdraw(self, amount, entered_pin):\n",
    "        if self.check_pin(entered_pin):\n",
    "            if amount > self.balance:\n",
    "                return \"Insufficient funds.\"\n",
    "            elif amount <= 0:\n",
    "                return \"Invalid withdrawal amount.\"\n",
    "            else:\n",
    "                self.balance -= amount\n",
    "                return f\"₹{amount} withdrawn successfully. Remaining balance: ₹{self.balance}\"\n",
    "        else:\n",
    "            return \"Incorrect PIN.\"\n",
    "\n",
    "    def change_pin(self, old_pin, new_pin):\n",
    "        if self.check_pin(old_pin):\n",
    "            if len(new_pin) == 4 and new_pin.isdigit():\n",
    "                self.pin = new_pin\n",
    "                return \"PIN changed successfully.\"\n",
    "            else:\n",
    "                return \"New PIN must be a 4-digit number.\"\n",
    "        else:\n",
    "            return \"Incorrect old PIN.\"\n",
    "\n",
    "\n",
    "atm = ATM(initial_balance=10000, pin=\"1234\")\n",
    "\n",
    "# Balance inquiry\n",
    "print(atm.balance_inquiry(\"1234\"))\n",
    "\n",
    "# Deposit money\n",
    "print(atm.deposit(5000, \"1234\"))\n",
    "\n",
    "# Withdraw money\n",
    "print(atm.withdraw(2000, \"1234\"))\n",
    "\n",
    "# Change PIN\n",
    "print(atm.change_pin(\"1234\", \"5678\"))\n",
    "print(atm.balance_inquiry(\"5678\"))\n"
   ]
  }
 ],
 "metadata": {
  "kernelspec": {
   "display_name": "Python 3",
   "language": "python",
   "name": "python3"
  },
  "language_info": {
   "codemirror_mode": {
    "name": "ipython",
    "version": 3
   },
   "file_extension": ".py",
   "mimetype": "text/x-python",
   "name": "python",
   "nbconvert_exporter": "python",
   "pygments_lexer": "ipython3",
   "version": "3.12.3"
  }
 },
 "nbformat": 4,
 "nbformat_minor": 2
}
