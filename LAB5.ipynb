{
 "cells": [
  {
   "cell_type": "markdown",
   "metadata": {},
   "source": [
    "Write a Python program to triple all numbers in a given list of integers. Use Python map."
   ]
  },
  {
   "cell_type": "code",
   "execution_count": 1,
   "metadata": {},
   "outputs": [
    {
     "name": "stdout",
     "output_type": "stream",
     "text": [
      "[3, 6, 9, 12, 15]\n"
     ]
    }
   ],
   "source": [
    "def triple_numbers(numbers):\n",
    "    return list(map(lambda x: x * 3, numbers))\n",
    "\n",
    "numbers = [1, 2, 3, 4, 5]\n",
    "result = triple_numbers(numbers)\n",
    "print(result) "
   ]
  },
  {
   "cell_type": "markdown",
   "metadata": {},
   "source": [
    "Write a Python program to add three given lists using Python map and lambda."
   ]
  },
  {
   "cell_type": "code",
   "execution_count": 2,
   "metadata": {},
   "outputs": [
    {
     "name": "stdout",
     "output_type": "stream",
     "text": [
      "[12, 15, 18]\n"
     ]
    }
   ],
   "source": [
    "def add_lists(list1, list2, list3):\n",
    "    return list(map(lambda x, y, z: x + y + z, list1, list2, list3))\n",
    "\n",
    "list1 = [1, 2, 3]\n",
    "list2 = [4, 5, 6]\n",
    "list3 = [7, 8, 9]\n",
    "result = add_lists(list1, list2, list3)\n",
    "print(result) "
   ]
  },
  {
   "cell_type": "markdown",
   "metadata": {},
   "source": [
    "Write a Python program to listify the list of given strings individually using Python map"
   ]
  },
  {
   "cell_type": "code",
   "execution_count": 3,
   "metadata": {},
   "outputs": [
    {
     "name": "stdout",
     "output_type": "stream",
     "text": [
      "[['h', 'e', 'l', 'l', 'o'], ['w', 'o', 'r', 'l', 'd']]\n"
     ]
    }
   ],
   "source": [
    "def listify_strings(strings):\n",
    "    return list(map(list, strings))\n",
    "\n",
    "strings = [\"hello\", \"world\"]\n",
    "result = listify_strings(strings)\n",
    "print(result) "
   ]
  },
  {
   "cell_type": "markdown",
   "metadata": {},
   "source": [
    "Write a Python program to create a list containing the power of said number in bases raised to the corresponding number in the index using Python map."
   ]
  },
  {
   "cell_type": "code",
   "execution_count": 4,
   "metadata": {},
   "outputs": [
    {
     "name": "stdout",
     "output_type": "stream",
     "text": [
      "[1, 2, 4, 8, 16]\n"
     ]
    }
   ],
   "source": [
    "def power_list(base, length):\n",
    "    return list(map(lambda x: base ** x, range(length)))\n",
    "\n",
    "base = 2\n",
    "length = 5\n",
    "result = power_list(base, length)\n",
    "print(result) "
   ]
  },
  {
   "cell_type": "markdown",
   "metadata": {},
   "source": [
    "Write a Python program to square the elements of a list using the map() function."
   ]
  },
  {
   "cell_type": "code",
   "execution_count": 5,
   "metadata": {},
   "outputs": [
    {
     "name": "stdout",
     "output_type": "stream",
     "text": [
      "[1, 4, 9, 16, 25]\n"
     ]
    }
   ],
   "source": [
    "def square_elements(numbers):\n",
    "    return list(map(lambda x: x ** 2, numbers))\n",
    "\n",
    "numbers = [1, 2, 3, 4, 5]\n",
    "result = square_elements(numbers)\n",
    "print(result)  "
   ]
  },
  {
   "cell_type": "markdown",
   "metadata": {},
   "source": [
    "Write a Python program to convert all the characters into uppercase and lowercase and eliminate duplicate letters from a given sequence. Use the map() function."
   ]
  },
  {
   "cell_type": "code",
   "execution_count": 6,
   "metadata": {},
   "outputs": [
    {
     "name": "stdout",
     "output_type": "stream",
     "text": [
      "(['L', 'H', 'W', 'R', 'D', ' ', 'O', 'E'], ['l', 'h', 'w', 'r', 'd', ' ', 'o', 'e'])\n"
     ]
    }
   ],
   "source": [
    "def eliminate_duplicates(sequence):\n",
    "    unique_chars = set(sequence)\n",
    "    upper_chars = list(map(str.upper, unique_chars))\n",
    "    lower_chars = list(map(str.lower, unique_chars))\n",
    "    return upper_chars, lower_chars\n",
    "\n",
    "sequence = \"Hello World\"\n",
    "result = eliminate_duplicates(sequence)\n",
    "print(result) "
   ]
  },
  {
   "cell_type": "markdown",
   "metadata": {},
   "source": [
    "Write a Python program to add two given lists and find the difference between them. Use the map() function."
   ]
  },
  {
   "cell_type": "code",
   "execution_count": 7,
   "metadata": {},
   "outputs": [
    {
     "name": "stdout",
     "output_type": "stream",
     "text": [
      "Added: [6, 8, 10]\n",
      "Difference: [4, 4, 4]\n"
     ]
    }
   ],
   "source": [
    "def add_and_difference(list1, list2):\n",
    "    added = list(map(lambda x, y: x + y, list1, list2))\n",
    "    difference = list(map(lambda x, y: x - y, list1, list2))\n",
    "    return added, difference\n",
    "\n",
    "list1 = [5, 6, 7]\n",
    "list2 = [1, 2, 3]\n",
    "added, difference = add_and_difference(list1, list2)\n",
    "print(\"Added:\", added)  \n",
    "print(\"Difference:\", difference)"
   ]
  },
  {
   "cell_type": "markdown",
   "metadata": {},
   "source": [
    "Write a Python program to convert a given list of integers and a tuple of integers in a list of strings."
   ]
  },
  {
   "cell_type": "code",
   "execution_count": 11,
   "metadata": {},
   "outputs": [
    {
     "name": "stdout",
     "output_type": "stream",
     "text": [
      "['1', '2', '3', '4', '5', '6']\n"
     ]
    }
   ],
   "source": [
    "def convert_to_strings(int_list, int_tuple):\n",
    "    return list(map(str, int_list)) + list(map(str, int_tuple))\n",
    "\n",
    "int_list = [1, 2, 3]\n",
    "int_tuple = (4, 5, 6)\n",
    "result = convert_to_strings(int_list, int_tuple)\n",
    "print(result)  "
   ]
  },
  {
   "cell_type": "markdown",
   "metadata": {},
   "source": [
    "Write a Python program to create a new list taking specific elements from a tuple and convert a string value to an integer"
   ]
  },
  {
   "cell_type": "code",
   "execution_count": 10,
   "metadata": {},
   "outputs": [
    {
     "name": "stdout",
     "output_type": "stream",
     "text": [
      "[1, 2, 3, 4]\n"
     ]
    }
   ],
   "source": [
    "def create_new_list(tuple_data, string_value):\n",
    "    return list(map(int, tuple_data)) + [int(string_value)]\n",
    "\n",
    "tuple_data = (1, 2, 3)\n",
    "string_value = \"4\"\n",
    "result = create_new_list(tuple_data, string_value)\n",
    "print(result)  "
   ]
  },
  {
   "cell_type": "markdown",
   "metadata": {},
   "source": [
    "Write a Python program to compute the square of the first N Fibonacci numbers, using the map function and generate a list of the numbers."
   ]
  },
  {
   "cell_type": "code",
   "execution_count": 9,
   "metadata": {},
   "outputs": [
    {
     "name": "stdout",
     "output_type": "stream",
     "text": [
      "[0, 1, 1, 4, 9]\n"
     ]
    }
   ],
   "source": [
    "def fibonacci_squares(n):\n",
    "    def fib(n):\n",
    "        if n <= 0:\n",
    "            return 0\n",
    "        elif n == 1:\n",
    "            return 1\n",
    "        else:\n",
    "            return fib(n - 1) + fib(n - 2)\n",
    "\n",
    "    return list(map(lambda x: fib(x) ** 2, range(n)))\n",
    "\n",
    "N = 5\n",
    "result = fibonacci_squares(N)\n",
    "print(result)  "
   ]
  },
  {
   "cell_type": "markdown",
   "metadata": {},
   "source": [
    "Write a Python program to compute the sum of elements of an array of integers. Use the map() function."
   ]
  },
  {
   "cell_type": "code",
   "execution_count": 8,
   "metadata": {},
   "outputs": [
    {
     "name": "stdout",
     "output_type": "stream",
     "text": [
      "15\n"
     ]
    }
   ],
   "source": [
    "def sum_of_elements(numbers):\n",
    "    return sum(map(int, numbers))\n",
    "\n",
    "numbers = [1, 2, 3, 4, 5]\n",
    "result = sum_of_elements(numbers)\n",
    "print(result) "
   ]
  }
 ],
 "metadata": {
  "kernelspec": {
   "display_name": "Python 3",
   "language": "python",
   "name": "python3"
  },
  "language_info": {
   "codemirror_mode": {
    "name": "ipython",
    "version": 3
   },
   "file_extension": ".py",
   "mimetype": "text/x-python",
   "name": "python",
   "nbconvert_exporter": "python",
   "pygments_lexer": "ipython3",
   "version": "3.12.3"
  }
 },
 "nbformat": 4,
 "nbformat_minor": 2
}
